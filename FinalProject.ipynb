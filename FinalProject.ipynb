{
  "nbformat": 4,
  "nbformat_minor": 0,
  "metadata": {
    "colab": {
      "name": "FinalProject.ipynb",
      "version": "0.3.2",
      "provenance": [],
      "collapsed_sections": []
    },
    "kernelspec": {
      "name": "python3",
      "display_name": "Python 3"
    },
    "accelerator": "GPU"
  },
  "cells": [
    {
      "cell_type": "code",
      "metadata": {
        "id": "X9cFKLdKkWI3",
        "colab_type": "code",
        "outputId": "376e17a2-304a-4263-87f2-0a93d8daeef0",
        "colab": {
          "base_uri": "https://localhost:8080/",
          "height": 211
        }
      },
      "source": [
        "##Opening Data And saving\n",
        "\n",
        "# Load the Drive helper and mount\n",
        "from google.colab import drive\n",
        "\n",
        "# This will prompt for authorization.\n",
        "drive.mount('/content/drive')\n",
        "\n",
        "!ls '/content/drive/Team Drives/Deep Learning/FinalProject/'\n",
        "myDrive = '/content/drive/Team Drives/Deep Learning/FinalProject/'\n"
      ],
      "execution_count": 0,
      "outputs": [
        {
          "output_type": "stream",
          "text": [
            "Go to this URL in a browser: https://accounts.google.com/o/oauth2/auth?client_id=947318989803-6bn6qk8qdgf4n4g3pfee6491hc0brc4i.apps.googleusercontent.com&redirect_uri=urn%3Aietf%3Awg%3Aoauth%3A2.0%3Aoob&scope=email%20https%3A%2F%2Fwww.googleapis.com%2Fauth%2Fdocs.test%20https%3A%2F%2Fwww.googleapis.com%2Fauth%2Fdrive%20https%3A%2F%2Fwww.googleapis.com%2Fauth%2Fdrive.photos.readonly%20https%3A%2F%2Fwww.googleapis.com%2Fauth%2Fpeopleapi.readonly&response_type=code\n",
            "\n",
            "Enter your authorization code:\n",
            "··········\n",
            "Mounted at /content/drive\n",
            "'Còpia de FinalProject.ipynb'\t     FinalProject.ipynb\n",
            "'Còpia de FinalProjectJORDI.ipynb'   image_49.png\n",
            " data\t\t\t\t     models\n",
            "'Face emotion recognition.gdoc'     'Presentació sense títol.gslides'\n",
            "'Face emotion recognition.pdf'\t     Source.gdoc\n"
          ],
          "name": "stdout"
        }
      ]
    },
    {
      "cell_type": "code",
      "metadata": {
        "id": "-kTDoaQiJ0tg",
        "colab_type": "code",
        "colab": {}
      },
      "source": [
        "#Libraries needed to run this file.\n",
        "import matplotlib.pyplot as plt\n",
        "\n",
        "import numpy as np\n",
        "import torch\n",
        "from torchvision import datasets, models, transforms\n",
        "import torch.nn as nn\n",
        "from torchvision.utils import save_image\n",
        "from torch.nn import functional as F\n",
        "import torch.optim as optim\n",
        "import os\n",
        "from PIL import Image"
      ],
      "execution_count": 0,
      "outputs": []
    },
    {
      "cell_type": "code",
      "metadata": {
        "id": "WFectLfdJ3Eh",
        "colab_type": "code",
        "colab": {}
      },
      "source": [
        "#Creates a list that contains the possible labels for the images (both train and test).\n",
        "labelList = ['angry', 'disgusted', 'fearful', 'happy', 'neutral', 'sad', 'surprised']\n",
        "#Defines cuda device for running this file if it is available.\n",
        "device = torch.device('cuda:0' if torch.cuda.is_available() else 'cpu')\n",
        "\n",
        "#Loads data from our dataset. Can be used for train and test loaders.\n",
        "class emotionLoader(torch.utils.data.Dataset):\n",
        "    #Loads all the images and its corresponding label.\n",
        "    def __init__(self,dataDir = './data/train/',transform = None):\n",
        "        #Initialize the data and label list\n",
        "        self.labels = []\n",
        "        self.data = []\n",
        "        \n",
        "        #List all the images of the given folder and sort them.\n",
        "        listImage = os.listdir(dataDir)\n",
        "        listImage = sorted(listImage)\n",
        "        \n",
        "        #For loop through the label list.\n",
        "        for i in range( len(labelList) ):\n",
        "            print(labelList[i])\n",
        "            #Creates the path of each folder (angry, sad, neutral, ...).\n",
        "            path = dataDir + labelList[i] + '/'\n",
        "            #List the images inside the current folder.\n",
        "            listImage = os.listdir(path)\n",
        "\n",
        "            #For loop through the images of a folder.\n",
        "            for face in listImage:\n",
        "                #Read the data using PIL and appends it to data list.\n",
        "                self.data.append(Image.open(path+face))\n",
        "                #Also appends the label of the current image.\n",
        "                self.labels.append(torch.FloatTensor([i]))\n",
        "        \n",
        "        self.transform = transform\n",
        "        \n",
        "    #Given and index, returns the image and label located at this index.\n",
        "    def __getitem__(self, index):\n",
        "        #Gets the image and the label located at the given index.\n",
        "        data = self.data[index]\n",
        "        lbl = self.labels[index]\n",
        "        \n",
        "        #If there are some transformations apply them to the image.\n",
        "        if self.transform is not None : \n",
        "            data = self.transform(data)\n",
        "        \n",
        "        #Return both image and label.\n",
        "        return data,lbl\n",
        "    \n",
        "    #Returns the size of data loaded.\n",
        "    def __len__(self):\n",
        "        return len(self.data)\n"
      ],
      "execution_count": 0,
      "outputs": []
    },
    {
      "cell_type": "code",
      "metadata": {
        "id": "hhqwsfDqs4wl",
        "colab_type": "code",
        "colab": {}
      },
      "source": [
        "#Our network.\n",
        "class Net(nn.Module):\n",
        "    \n",
        "    #Define all the layers involved and the number of classes.\n",
        "    def __init__(self, num_classes=7):\n",
        "        super(Net, self).__init__()     \n",
        "        #As label list has length 7, our network will have 7 classes.\n",
        "        self.classes = num_classes\n",
        "        #First liner layer. In features = 64*23*23 and out features = 64.\n",
        "        self.in1 = nn.Linear(64*23*23, 64)\n",
        "        #Second linear layer. In features = out features linear layer 1 and out layer = number of clases.\n",
        "        self.in2 = nn.Linear(64, 7)\n",
        "        #First conv. layer. In channels = 1, out channels = 32 and kernel size of 3x3.\n",
        "        self.l1 = nn.Conv2d(1, 32, 3)\n",
        "        #Second conv.layer. In channel = out channels conv. layer 1, out channels = 64 and kernel size of 1x1.\n",
        "        self.l2 = nn.Conv2d(32, 64, 1)      \n",
        "        \n",
        "        #Relu activation function.\n",
        "        self.relu =  nn.ReLU(True)\n",
        "        #Max pooling with kernel size of 2x2.\n",
        "        self.pool = nn.MaxPool2d(2)\n",
        "        #Dropout with probability of an element to be zeroed equals to 0.25.\n",
        "        self.drop = nn.Dropout(0.25)\n",
        "        #Batch normalization with  64 in features.\n",
        "        self.batchNorm = nn.BatchNorm2d(64)\n",
        "\n",
        "    #Forward function.\n",
        "    def forward(self, x):\n",
        "        #Returns the result of passing the image x through the first convolutional layer.\n",
        "        out = self.l1(x)\n",
        "        #Apply relu activation function to the previous result.\n",
        "        out = self.relu(out)\n",
        "        #After that, pass the above result through the second convolutional layer.\n",
        "        out = self.l2(out)\n",
        "        #Again, apply relu activation function to that result.\n",
        "        out = self.relu(out)\n",
        "        #Apply batch normalization, max pooling and dropout.\n",
        "        out = self.batchNorm(out)\n",
        "        out = self.pool(out)\n",
        "        out = self.drop(out)\n",
        "        #Reshape the result in order to remove one dimension of it.\n",
        "        out = out.reshape(out.size(0), -1)\n",
        "        #Finally, pass the result value through first linear layer and then through second linear layer.\n",
        "        out = self.in1(out)\n",
        "        out = self.in2(out)\n",
        "\n",
        "        #Return the result.\n",
        "        return out"
      ],
      "execution_count": 0,
      "outputs": []
    },
    {
      "cell_type": "code",
      "metadata": {
        "id": "s0PhAxgsIXXO",
        "colab_type": "code",
        "outputId": "58d6550f-b2a1-4b29-efe8-6bd04e50e8d5",
        "colab": {
          "base_uri": "https://localhost:8080/",
          "height": 260
        }
      },
      "source": [
        "#Transformation that will be applied to each image.\n",
        "tr = transforms.Compose([\n",
        "        transforms.ToTensor(),\n",
        "        transforms.Normalize([.5], [.5])\n",
        "        ])\n",
        "\n",
        "#Defines the batch size used in both train and test loaders.\n",
        "batch_size = 64\n",
        "\n",
        "#Defines train loader.\n",
        "train = emotionLoader(myDrive + 'data/train/', tr)\n",
        "train_loader = torch.utils.data.DataLoader(dataset=train,\n",
        "                                               batch_size=batch_size, \n",
        "                                               shuffle=True)\n",
        "#Defines test loader.\n",
        "test = emotionLoader(myDrive + 'data/test/', tr)\n",
        "test_loader = torch.utils.data.DataLoader(dataset=test,\n",
        "                                               batch_size=batch_size, \n",
        "                                               shuffle=True)"
      ],
      "execution_count": 0,
      "outputs": [
        {
          "output_type": "stream",
          "text": [
            "angry\n",
            "disgusted\n",
            "fearful\n",
            "happy\n",
            "neutral\n",
            "sad\n",
            "surprised\n",
            "angry\n",
            "disgusted\n",
            "fearful\n",
            "happy\n",
            "neutral\n",
            "sad\n",
            "surprised\n"
          ],
          "name": "stdout"
        }
      ]
    },
    {
      "cell_type": "code",
      "metadata": {
        "id": "01uAmDrqy4zP",
        "colab_type": "code",
        "outputId": "bc2cd786-40bc-4bf3-8c7b-1acac5237ee6",
        "colab": {
          "base_uri": "https://localhost:8080/",
          "height": 1861
        }
      },
      "source": [
        "#The training will have 50 epochs.\n",
        "num_epochs = 50\n",
        "\n",
        "#Defines the neural network we will use and loads a model.\n",
        "CNN = Net()\n",
        "CNN.load_state_dict(torch.load(myDrive + 'models/VGG_Face_torch.pth'), strict=False)\n",
        "CNN = CNN.cuda()\n",
        "\n",
        "#Defines the learning rate, the criterion and the optimizer.\n",
        "learning_rate = .01\n",
        "criterion = nn.MSELoss()\n",
        "optimizer = torch.optim.Adam(CNN.parameters(),lr = learning_rate)\n",
        "\n",
        "#Train the model.\n",
        "if True :\n",
        "    \n",
        "    print('training')\n",
        "    total_step = len(train_loader)\n",
        "    \n",
        "    #For loop for epochs.\n",
        "    for epoch in range(num_epochs):\n",
        "        #For loop through train loader.\n",
        "        for i, (images, labels) in enumerate(train_loader):\n",
        "            \n",
        "            #The images and labels are send to cuda.\n",
        "            images = images.to(device)\n",
        "            labels = labels.to(device)\n",
        "            \n",
        "            #Forward pass\n",
        "            outputs = CNN(images)\n",
        "            loss = criterion(outputs, labels)\n",
        "\n",
        "            #Backward and optimize\n",
        "            optimizer.zero_grad()\n",
        "            loss.backward()\n",
        "            optimizer.step()\n",
        "\n",
        "            if (i+1) % 16 == 0:\n",
        "                print ('Epoch [{}/{}], Step [{}/{}], Loss: {:.4f}' \n",
        "                       .format(epoch+1, num_epochs, i+1, total_step, loss.item()))"
      ],
      "execution_count": 0,
      "outputs": [
        {
          "output_type": "stream",
          "text": [
            "training\n"
          ],
          "name": "stdout"
        },
        {
          "output_type": "stream",
          "text": [
            "/usr/local/lib/python3.6/dist-packages/torch/nn/modules/loss.py:443: UserWarning: Using a target size (torch.Size([64, 1])) that is different to the input size (torch.Size([64, 7])). This will likely lead to incorrect results due to broadcasting. Please ensure they have the same size.\n",
            "  return F.mse_loss(input, target, reduction=self.reduction)\n"
          ],
          "name": "stderr"
        },
        {
          "output_type": "stream",
          "text": [
            "Epoch [1/50], Step [16/37], Loss: 135.5347\n",
            "Epoch [1/50], Step [32/37], Loss: 26.9488\n"
          ],
          "name": "stdout"
        },
        {
          "output_type": "stream",
          "text": [
            "/usr/local/lib/python3.6/dist-packages/torch/nn/modules/loss.py:443: UserWarning: Using a target size (torch.Size([41, 1])) that is different to the input size (torch.Size([41, 7])). This will likely lead to incorrect results due to broadcasting. Please ensure they have the same size.\n",
            "  return F.mse_loss(input, target, reduction=self.reduction)\n"
          ],
          "name": "stderr"
        },
        {
          "output_type": "stream",
          "text": [
            "Epoch [2/50], Step [16/37], Loss: 8.4128\n",
            "Epoch [2/50], Step [32/37], Loss: 5.8300\n",
            "Epoch [3/50], Step [16/37], Loss: 5.9808\n",
            "Epoch [3/50], Step [32/37], Loss: 5.3439\n",
            "Epoch [4/50], Step [16/37], Loss: 4.7551\n",
            "Epoch [4/50], Step [32/37], Loss: 5.2715\n",
            "Epoch [5/50], Step [16/37], Loss: 4.9437\n",
            "Epoch [5/50], Step [32/37], Loss: 5.5526\n",
            "Epoch [6/50], Step [16/37], Loss: 4.3204\n",
            "Epoch [6/50], Step [32/37], Loss: 4.5178\n",
            "Epoch [7/50], Step [16/37], Loss: 4.7856\n",
            "Epoch [7/50], Step [32/37], Loss: 4.0562\n",
            "Epoch [8/50], Step [16/37], Loss: 4.0817\n",
            "Epoch [8/50], Step [32/37], Loss: 3.2570\n",
            "Epoch [9/50], Step [16/37], Loss: 3.9865\n",
            "Epoch [9/50], Step [32/37], Loss: 5.0293\n",
            "Epoch [10/50], Step [16/37], Loss: 4.5078\n",
            "Epoch [10/50], Step [32/37], Loss: 3.5477\n",
            "Epoch [11/50], Step [16/37], Loss: 3.6817\n",
            "Epoch [11/50], Step [32/37], Loss: 3.1213\n",
            "Epoch [12/50], Step [16/37], Loss: 3.4172\n",
            "Epoch [12/50], Step [32/37], Loss: 3.8474\n",
            "Epoch [13/50], Step [16/37], Loss: 3.5885\n",
            "Epoch [13/50], Step [32/37], Loss: 3.9218\n",
            "Epoch [14/50], Step [16/37], Loss: 4.5887\n",
            "Epoch [14/50], Step [32/37], Loss: 3.4433\n",
            "Epoch [15/50], Step [16/37], Loss: 2.8031\n",
            "Epoch [15/50], Step [32/37], Loss: 3.4758\n",
            "Epoch [16/50], Step [16/37], Loss: 3.3255\n",
            "Epoch [16/50], Step [32/37], Loss: 3.0420\n",
            "Epoch [17/50], Step [16/37], Loss: 2.9856\n",
            "Epoch [17/50], Step [32/37], Loss: 3.0304\n",
            "Epoch [18/50], Step [16/37], Loss: 2.3640\n",
            "Epoch [18/50], Step [32/37], Loss: 3.3830\n",
            "Epoch [19/50], Step [16/37], Loss: 2.7688\n",
            "Epoch [19/50], Step [32/37], Loss: 3.2277\n",
            "Epoch [20/50], Step [16/37], Loss: 2.2123\n",
            "Epoch [20/50], Step [32/37], Loss: 2.5285\n",
            "Epoch [21/50], Step [16/37], Loss: 2.0525\n",
            "Epoch [21/50], Step [32/37], Loss: 2.0945\n",
            "Epoch [22/50], Step [16/37], Loss: 1.7451\n",
            "Epoch [22/50], Step [32/37], Loss: 2.2080\n",
            "Epoch [23/50], Step [16/37], Loss: 2.2347\n",
            "Epoch [23/50], Step [32/37], Loss: 1.7205\n",
            "Epoch [24/50], Step [16/37], Loss: 2.1276\n",
            "Epoch [24/50], Step [32/37], Loss: 1.8492\n",
            "Epoch [25/50], Step [16/37], Loss: 1.8101\n",
            "Epoch [25/50], Step [32/37], Loss: 1.6497\n",
            "Epoch [26/50], Step [16/37], Loss: 1.6690\n",
            "Epoch [26/50], Step [32/37], Loss: 2.5162\n",
            "Epoch [27/50], Step [16/37], Loss: 1.5553\n",
            "Epoch [27/50], Step [32/37], Loss: 2.4301\n",
            "Epoch [28/50], Step [16/37], Loss: 1.6894\n",
            "Epoch [28/50], Step [32/37], Loss: 1.8246\n",
            "Epoch [29/50], Step [16/37], Loss: 1.7520\n",
            "Epoch [29/50], Step [32/37], Loss: 2.1882\n",
            "Epoch [30/50], Step [16/37], Loss: 1.3833\n",
            "Epoch [30/50], Step [32/37], Loss: 2.1156\n",
            "Epoch [31/50], Step [16/37], Loss: 1.7427\n",
            "Epoch [31/50], Step [32/37], Loss: 2.0449\n",
            "Epoch [32/50], Step [16/37], Loss: 1.4794\n",
            "Epoch [32/50], Step [32/37], Loss: 2.1046\n",
            "Epoch [33/50], Step [16/37], Loss: 2.0442\n",
            "Epoch [33/50], Step [32/37], Loss: 2.0360\n",
            "Epoch [34/50], Step [16/37], Loss: 1.6064\n",
            "Epoch [34/50], Step [32/37], Loss: 1.4816\n",
            "Epoch [35/50], Step [16/37], Loss: 1.2467\n",
            "Epoch [35/50], Step [32/37], Loss: 1.2903\n",
            "Epoch [36/50], Step [16/37], Loss: 1.3994\n",
            "Epoch [36/50], Step [32/37], Loss: 1.3050\n",
            "Epoch [37/50], Step [16/37], Loss: 1.2021\n",
            "Epoch [37/50], Step [32/37], Loss: 1.6667\n",
            "Epoch [38/50], Step [16/37], Loss: 1.4216\n",
            "Epoch [38/50], Step [32/37], Loss: 1.8898\n",
            "Epoch [39/50], Step [16/37], Loss: 1.1248\n",
            "Epoch [39/50], Step [32/37], Loss: 1.5146\n",
            "Epoch [40/50], Step [16/37], Loss: 1.4696\n",
            "Epoch [40/50], Step [32/37], Loss: 1.3512\n",
            "Epoch [41/50], Step [16/37], Loss: 1.2706\n",
            "Epoch [41/50], Step [32/37], Loss: 1.7767\n",
            "Epoch [42/50], Step [16/37], Loss: 1.1217\n",
            "Epoch [42/50], Step [32/37], Loss: 1.6666\n",
            "Epoch [43/50], Step [16/37], Loss: 1.1304\n",
            "Epoch [43/50], Step [32/37], Loss: 1.0662\n",
            "Epoch [44/50], Step [16/37], Loss: 1.0347\n",
            "Epoch [44/50], Step [32/37], Loss: 1.2248\n",
            "Epoch [45/50], Step [16/37], Loss: 1.5272\n",
            "Epoch [45/50], Step [32/37], Loss: 1.0355\n",
            "Epoch [46/50], Step [16/37], Loss: 1.2130\n",
            "Epoch [46/50], Step [32/37], Loss: 1.4874\n",
            "Epoch [47/50], Step [16/37], Loss: 0.9658\n",
            "Epoch [47/50], Step [32/37], Loss: 1.1504\n",
            "Epoch [48/50], Step [16/37], Loss: 1.0161\n",
            "Epoch [48/50], Step [32/37], Loss: 1.2210\n",
            "Epoch [49/50], Step [16/37], Loss: 0.8756\n",
            "Epoch [49/50], Step [32/37], Loss: 0.8798\n",
            "Epoch [50/50], Step [16/37], Loss: 1.0959\n",
            "Epoch [50/50], Step [32/37], Loss: 0.9393\n"
          ],
          "name": "stdout"
        }
      ]
    },
    {
      "cell_type": "code",
      "metadata": {
        "id": "mIfrpQBrQcd0",
        "colab_type": "code",
        "outputId": "7718e778-5fea-48b1-b400-a347646286a0",
        "colab": {
          "base_uri": "https://localhost:8080/",
          "height": 321
        }
      },
      "source": [
        "#Modifies the image size as it is modified by the neural network.\n",
        "def to_img(x):\n",
        "    x = 0.5 * (x + 1)\n",
        "    x = x.clamp(0, 1)\n",
        "    x = x.view(x.size(0), 1, 48, 48)\n",
        "    return x\n",
        "\n",
        "#Test the model.\n",
        "if True :\n",
        "    \n",
        "    #Eval mode (batchnorm uses moving mean/variance instead of mini-batch mean/variance).\n",
        "    CNN.eval()\n",
        "    with torch.no_grad():\n",
        "        correct = 0\n",
        "        total = 0\n",
        "        \n",
        "        #For loop through test loader.\n",
        "        for i, (images, labels) in enumerate(test_loader):\n",
        "            #Send both images and labels to cuda in order to perform faster this operations.\n",
        "            images = images.to(device)\n",
        "            labels = labels.to(device)\n",
        "            \n",
        "            #Return the result of passing the images through the neural network.\n",
        "            outputs = CNN(images)\n",
        "            \n",
        "            #Computes values related to accuracy.\n",
        "            total += labels.size(0)\n",
        "            for line in outputs:\n",
        "                index = (line == torch.max(line)).nonzero()\n",
        "                correct += (index == int(labels[i].item())).sum().item()\n",
        "            \n",
        "            #Shows an example of our model.\n",
        "            if i%60 == 0:\n",
        "                pic = to_img(images[i].cpu().data)\n",
        "                imgName = myDrive+'image_{}.png'.format(epoch)\n",
        "                save_image(pic, imgName)\n",
        "                plt.imshow(Image.open(imgName))\n",
        "                print('Predicted label = ', index.item())\n",
        "                print('Real label = ', int(labels[i].item()))\n",
        "            \n",
        "        print('Test Accuracy of the model on the test images: {} %'.format(100 * (correct / total) ) )"
      ],
      "execution_count": 0,
      "outputs": [
        {
          "output_type": "stream",
          "text": [
            "Predicted label =  4\n",
            "Real label =  4\n",
            "Test Accuracy of the model on the test images: 18.142857142857142 %\n"
          ],
          "name": "stdout"
        },
        {
          "output_type": "display_data",
          "data": {
            "image/png": "[encoded data removed]",
            "text/plain": [
              "<Figure size 432x288 with 1 Axes>"
            ]
          },
          "metadata": {
            "tags": []
          }
        }
      ]
    },
    {
      "cell_type": "code",
      "metadata": {
        "id": "gq4_p-YelmZS",
        "colab_type": "code",
        "colab": {}
      },
      "source": [
        ""
      ],
      "execution_count": 0,
      "outputs": []
    }
  ]
}